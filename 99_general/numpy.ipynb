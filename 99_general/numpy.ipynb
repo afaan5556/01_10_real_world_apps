{
 "cells": [
  {
   "cell_type": "markdown",
   "id": "e6aaee12",
   "metadata": {},
   "source": [
    "## Import"
   ]
  },
  {
   "cell_type": "code",
   "execution_count": 18,
   "id": "ad5368e9",
   "metadata": {},
   "outputs": [],
   "source": [
    "import cv2\n",
    "import numpy as np"
   ]
  },
  {
   "cell_type": "markdown",
   "id": "c837b01d",
   "metadata": {},
   "source": [
    "## Images"
   ]
  },
  {
   "cell_type": "markdown",
   "id": "bd81edee",
   "metadata": {},
   "source": [
    "#### Read Image as Array"
   ]
  },
  {
   "cell_type": "code",
   "execution_count": 2,
   "id": "7eafd28e",
   "metadata": {},
   "outputs": [],
   "source": [
    "# 0: Greyscale, 1: BGR\n",
    "img = cv2.imread(\"data/smallgray.png\",0)"
   ]
  },
  {
   "cell_type": "code",
   "execution_count": 3,
   "id": "a8ec7eb5",
   "metadata": {},
   "outputs": [
    {
     "data": {
      "text/plain": [
       "array([[187, 158, 104, 121, 143],\n",
       "       [198, 125, 255, 255, 147],\n",
       "       [209, 134, 255,  97, 182]], dtype=uint8)"
      ]
     },
     "execution_count": 3,
     "metadata": {},
     "output_type": "execute_result"
    }
   ],
   "source": [
    "img"
   ]
  },
  {
   "cell_type": "code",
   "execution_count": 4,
   "id": "d441d831",
   "metadata": {},
   "outputs": [],
   "source": [
    "img_color = cv2.imread(\"data/smallgray.png\", 1)"
   ]
  },
  {
   "cell_type": "code",
   "execution_count": 5,
   "id": "d13c3982",
   "metadata": {},
   "outputs": [
    {
     "data": {
      "text/plain": [
       "array([[[187, 187, 187],\n",
       "        [158, 158, 158],\n",
       "        [104, 104, 104],\n",
       "        [121, 121, 121],\n",
       "        [143, 143, 143]],\n",
       "\n",
       "       [[198, 198, 198],\n",
       "        [125, 125, 125],\n",
       "        [255, 255, 255],\n",
       "        [255, 255, 255],\n",
       "        [147, 147, 147]],\n",
       "\n",
       "       [[209, 209, 209],\n",
       "        [134, 134, 134],\n",
       "        [255, 255, 255],\n",
       "        [ 97,  97,  97],\n",
       "        [182, 182, 182]]], dtype=uint8)"
      ]
     },
     "execution_count": 5,
     "metadata": {},
     "output_type": "execute_result"
    }
   ],
   "source": [
    "img_color"
   ]
  },
  {
   "cell_type": "markdown",
   "id": "0cbfd1a7",
   "metadata": {},
   "source": [
    "#### Write Array as Image"
   ]
  },
  {
   "cell_type": "code",
   "execution_count": 6,
   "id": "ade13c70",
   "metadata": {},
   "outputs": [
    {
     "data": {
      "text/plain": [
       "True"
      ]
     },
     "execution_count": 6,
     "metadata": {},
     "output_type": "execute_result"
    }
   ],
   "source": [
    "cv2.imwrite(\"newsmallgrey.png\", img)"
   ]
  },
  {
   "cell_type": "markdown",
   "id": "e7f95b97",
   "metadata": {},
   "source": [
    "## NP Operations"
   ]
  },
  {
   "cell_type": "markdown",
   "id": "6b9e28bb",
   "metadata": {},
   "source": [
    "#### Slice / Access"
   ]
  },
  {
   "cell_type": "code",
   "execution_count": 12,
   "id": "c216cad2",
   "metadata": {},
   "outputs": [
    {
     "data": {
      "text/plain": [
       "array([[104, 121],\n",
       "       [255, 255]], dtype=uint8)"
      ]
     },
     "execution_count": 12,
     "metadata": {},
     "output_type": "execute_result"
    }
   ],
   "source": [
    "# Row indexes, column indexes\n",
    "img[0:2,2:4]"
   ]
  },
  {
   "cell_type": "code",
   "execution_count": 13,
   "id": "32062018",
   "metadata": {},
   "outputs": [
    {
     "data": {
      "text/plain": [
       "array([[104, 121, 143],\n",
       "       [255, 255, 147],\n",
       "       [255,  97, 182]], dtype=uint8)"
      ]
     },
     "execution_count": 13,
     "metadata": {},
     "output_type": "execute_result"
    }
   ],
   "source": [
    "img[:,2:]"
   ]
  },
  {
   "cell_type": "markdown",
   "id": "ec6510be",
   "metadata": {},
   "source": [
    "#### Iterate"
   ]
  },
  {
   "cell_type": "code",
   "execution_count": 15,
   "id": "5eb69ad0",
   "metadata": {},
   "outputs": [
    {
     "name": "stdout",
     "output_type": "stream",
     "text": [
      "[187 158 104 121 143]\n",
      "[198 125 255 255 147]\n",
      "[209 134 255  97 182]\n"
     ]
    }
   ],
   "source": [
    "# Iterate rows\n",
    "for i in img:\n",
    "    print(i)"
   ]
  },
  {
   "cell_type": "code",
   "execution_count": 16,
   "id": "5a904181",
   "metadata": {},
   "outputs": [
    {
     "name": "stdout",
     "output_type": "stream",
     "text": [
      "[187 198 209]\n",
      "[158 125 134]\n",
      "[104 255 255]\n",
      "[121 255  97]\n",
      "[143 147 182]\n"
     ]
    }
   ],
   "source": [
    "# Iterate columns\n",
    "for i in img.T:\n",
    "    print(i)"
   ]
  },
  {
   "cell_type": "code",
   "execution_count": 17,
   "id": "8daccfc0",
   "metadata": {},
   "outputs": [
    {
     "name": "stdout",
     "output_type": "stream",
     "text": [
      "187\n",
      "158\n",
      "104\n",
      "121\n",
      "143\n",
      "198\n",
      "125\n",
      "255\n",
      "255\n",
      "147\n",
      "209\n",
      "134\n",
      "255\n",
      "97\n",
      "182\n"
     ]
    }
   ],
   "source": [
    "# Flat iterate\n",
    "for i in img.flat:\n",
    "    print(i)"
   ]
  },
  {
   "cell_type": "markdown",
   "id": "f74f9c21",
   "metadata": {},
   "source": [
    "#### Stacking and Splitting"
   ]
  },
  {
   "cell_type": "code",
   "execution_count": 27,
   "id": "e197462f",
   "metadata": {},
   "outputs": [],
   "source": [
    "# Horizontal Stack\n",
    "h_stack = np.hstack((img,img))"
   ]
  },
  {
   "cell_type": "code",
   "execution_count": 28,
   "id": "33f98d84",
   "metadata": {},
   "outputs": [
    {
     "data": {
      "text/plain": [
       "array([[187, 158, 104, 121, 143, 187, 158, 104, 121, 143],\n",
       "       [198, 125, 255, 255, 147, 198, 125, 255, 255, 147],\n",
       "       [209, 134, 255,  97, 182, 209, 134, 255,  97, 182]], dtype=uint8)"
      ]
     },
     "execution_count": 28,
     "metadata": {},
     "output_type": "execute_result"
    }
   ],
   "source": [
    "h_stack"
   ]
  },
  {
   "cell_type": "code",
   "execution_count": 29,
   "id": "7b99df79",
   "metadata": {},
   "outputs": [],
   "source": [
    "# Vertical Stack\n",
    "v_stack = np.vstack((img,img))"
   ]
  },
  {
   "cell_type": "code",
   "execution_count": 30,
   "id": "24d686d6",
   "metadata": {},
   "outputs": [
    {
     "data": {
      "text/plain": [
       "array([[187, 158, 104, 121, 143],\n",
       "       [198, 125, 255, 255, 147],\n",
       "       [209, 134, 255,  97, 182],\n",
       "       [187, 158, 104, 121, 143],\n",
       "       [198, 125, 255, 255, 147],\n",
       "       [209, 134, 255,  97, 182]], dtype=uint8)"
      ]
     },
     "execution_count": 30,
     "metadata": {},
     "output_type": "execute_result"
    }
   ],
   "source": [
    "v_stack"
   ]
  },
  {
   "cell_type": "code",
   "execution_count": 31,
   "id": "80827e2a",
   "metadata": {},
   "outputs": [],
   "source": [
    "# Split\n",
    "v_split = np.vsplit(img, 3)"
   ]
  },
  {
   "cell_type": "code",
   "execution_count": 32,
   "id": "e0f36547",
   "metadata": {},
   "outputs": [
    {
     "data": {
      "text/plain": [
       "[array([[187, 158, 104, 121, 143]], dtype=uint8),\n",
       " array([[198, 125, 255, 255, 147]], dtype=uint8),\n",
       " array([[209, 134, 255,  97, 182]], dtype=uint8)]"
      ]
     },
     "execution_count": 32,
     "metadata": {},
     "output_type": "execute_result"
    }
   ],
   "source": [
    "v_split"
   ]
  },
  {
   "cell_type": "code",
   "execution_count": 34,
   "id": "0600b0f4",
   "metadata": {},
   "outputs": [],
   "source": [
    "h_split = np.hsplit(img, 5)"
   ]
  },
  {
   "cell_type": "code",
   "execution_count": 35,
   "id": "f457892f",
   "metadata": {},
   "outputs": [
    {
     "data": {
      "text/plain": [
       "[array([[187],\n",
       "        [198],\n",
       "        [209]], dtype=uint8),\n",
       " array([[158],\n",
       "        [125],\n",
       "        [134]], dtype=uint8),\n",
       " array([[104],\n",
       "        [255],\n",
       "        [255]], dtype=uint8),\n",
       " array([[121],\n",
       "        [255],\n",
       "        [ 97]], dtype=uint8),\n",
       " array([[143],\n",
       "        [147],\n",
       "        [182]], dtype=uint8)]"
      ]
     },
     "execution_count": 35,
     "metadata": {},
     "output_type": "execute_result"
    }
   ],
   "source": [
    "h_split"
   ]
  },
  {
   "cell_type": "code",
   "execution_count": null,
   "id": "f3e9f48a",
   "metadata": {},
   "outputs": [],
   "source": []
  }
 ],
 "metadata": {
  "kernelspec": {
   "display_name": "Python 3 (ipykernel)",
   "language": "python",
   "name": "python3"
  },
  "language_info": {
   "codemirror_mode": {
    "name": "ipython",
    "version": 3
   },
   "file_extension": ".py",
   "mimetype": "text/x-python",
   "name": "python",
   "nbconvert_exporter": "python",
   "pygments_lexer": "ipython3",
   "version": "3.9.6"
  }
 },
 "nbformat": 4,
 "nbformat_minor": 5
}
