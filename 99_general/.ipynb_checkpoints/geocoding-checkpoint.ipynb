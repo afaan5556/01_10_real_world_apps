{
 "cells": [
  {
   "cell_type": "markdown",
   "id": "4c04a090",
   "metadata": {},
   "source": [
    "## ArgGIS geocode"
   ]
  },
  {
   "cell_type": "code",
   "execution_count": 4,
   "id": "65cb35b8",
   "metadata": {},
   "outputs": [],
   "source": [
    "from geopy.geocoders import ArcGIS\n",
    "nom = ArcGIS()"
   ]
  },
  {
   "cell_type": "code",
   "execution_count": 5,
   "id": "49d91d04",
   "metadata": {},
   "outputs": [
    {
     "data": {
      "text/plain": [
       "Location(8 Colonial Way, San Francisco, California, 94112, (37.728673996277465, -122.4406180355887, 0.0))"
      ]
     },
     "execution_count": 5,
     "metadata": {},
     "output_type": "execute_result"
    }
   ],
   "source": [
    "nom.geocode(\"8 Colonial Way, San Francisco, CA 94112\")"
   ]
  },
  {
   "cell_type": "code",
   "execution_count": 6,
   "id": "cef2d7d3",
   "metadata": {},
   "outputs": [
    {
     "data": {
      "text/plain": [
       "Location(Welfenstraße, 81541, München, Bayern, (48.12099299853097, 11.586947487746647, 0.0))"
      ]
     },
     "execution_count": 6,
     "metadata": {},
     "output_type": "execute_result"
    }
   ],
   "source": [
    "nom.geocode(\"Welfenstr, Munich, BV 81541\")"
   ]
  },
  {
   "cell_type": "code",
   "execution_count": null,
   "id": "38da5598",
   "metadata": {},
   "outputs": [],
   "source": []
  }
 ],
 "metadata": {
  "kernelspec": {
   "display_name": "Python 3 (ipykernel)",
   "language": "python",
   "name": "python3"
  },
  "language_info": {
   "codemirror_mode": {
    "name": "ipython",
    "version": 3
   },
   "file_extension": ".py",
   "mimetype": "text/x-python",
   "name": "python",
   "nbconvert_exporter": "python",
   "pygments_lexer": "ipython3",
   "version": "3.9.6"
  }
 },
 "nbformat": 4,
 "nbformat_minor": 5
}
